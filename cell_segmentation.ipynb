{
 "cells": [
  {
   "cell_type": "code",
   "execution_count": null,
   "metadata": {},
   "outputs": [],
   "source": [
    "import cv2\n",
    "import matplotlib.pyplot as plt\n",
    "from PIL import Image\n",
    "import numpy as np\n",
    "import math\n",
    "import math\n",
    "from scipy import interpolate\n",
    "from cellpose import plot, utils\n",
    "import os\n",
    "from library import plots"
   ]
  },
  {
   "cell_type": "markdown",
   "metadata": {},
   "source": [
    "## Read in Data"
   ]
  },
  {
   "cell_type": "code",
   "execution_count": null,
   "metadata": {},
   "outputs": [],
   "source": [
    "dic = []\n",
    "for file in os.listdir(\"brightfield/\"):\n",
    "    if not file.startswith('.'):\n",
    "        first = cv2.imread(os.path.join(\"brightfield/\", file), cv2.IMREAD_GRAYSCALE)\n",
    "        dic.append(first)\n",
    "\n",
    "red = []\n",
    "for file in os.listdir(\"red/\"):\n",
    "    if not file.startswith('.'):\n",
    "        first = cv2.imread(os.path.join(\"red/\", file), cv2.IMREAD_GRAYSCALE)\n",
    "        red.append(first)\n",
    "\n",
    "blue = []\n",
    "for file in os.listdir(\"blue/\"):\n",
    "    if not file.startswith('.'):\n",
    "        first = cv2.imread(os.path.join(\"blue/\", file), cv2.IMREAD_GRAYSCALE)\n",
    "        blue.append(first)"
   ]
  },
  {
   "attachments": {},
   "cell_type": "markdown",
   "metadata": {},
   "source": [
    "## Create segmentations of blue and red"
   ]
  },
  {
   "cell_type": "code",
   "execution_count": null,
   "metadata": {},
   "outputs": [],
   "source": [
    "# RUN CELLPOSE\n",
    "import os\n",
    "from cellpose import models, io\n",
    "from cellpose import plot\n",
    "\n",
    "# DEFINE CELLPOSE MODEL\n",
    "model = models.CellposeModel(gpu=False, model_type='LC4')\n",
    "\n",
    "chan = [0,0]\n",
    "for idx,img in enumerate(dic):\n",
    "    masks, flows, diams = model.eval(img, diameter=34.9,flow_threshold=0.4, channels=chan)\n",
    "    io.masks_flows_to_seg(img, masks, flows, 34.9, f'segmentations/{idx}', chan)"
   ]
  },
  {
   "attachments": {},
   "cell_type": "markdown",
   "metadata": {},
   "source": [
    "## Example segmentation images"
   ]
  },
  {
   "cell_type": "code",
   "execution_count": null,
   "metadata": {},
   "outputs": [],
   "source": [
    "img = dic[0]\n",
    "masks, flows, styles = model.eval(img, diameter=45.6,flow_threshold=0.4, channels=chan)\n",
    "fig = plt.figure(figsize=(12,5))\n",
    "plot.show_segmentation(fig, img, masks, flows[0], channels=chan)\n",
    "plt.tight_layout()\n",
    "plt.show()"
   ]
  },
  {
   "attachments": {},
   "cell_type": "markdown",
   "metadata": {},
   "source": [
    "## Use segmentations to create plots"
   ]
  },
  {
   "attachments": {},
   "cell_type": "markdown",
   "metadata": {},
   "source": [
    "#### Find limits of data\n"
   ]
  },
  {
   "cell_type": "code",
   "execution_count": null,
   "metadata": {},
   "outputs": [],
   "source": [
    "def get_cell_masks(img, outlines):\n",
    "    masked_imgs= []\n",
    "    for o in outlines:\n",
    "        x = o[:,0]\n",
    "        y = o[:,1]\n",
    "        x = np.r_[x, x[0]]\n",
    "        y = np.r_[y, y[0]]\n",
    "        tck, u = interpolate.splprep([x, y], s=0, per=True)\n",
    "        xi, yi = interpolate.splev(np.linspace(0, 1, 1000), tck)\n",
    "        contour = np.array([[xii, yii] for xii, yii in zip(xi.astype(int), yi.astype(int))])\n",
    "        mask    = np.zeros_like(img)\n",
    "        cv2.fillPoly(mask, pts=[contour], color=(255, 255, 255))\n",
    "        masked_img = cv2.bitwise_and(img, mask)\n",
    "        masked_imgs.append(masked_img)\n",
    "    return masked_imgs\n",
    "\n",
    "def get_pixel_intensities(img, pts):\n",
    "    pixel_intensities = img[pts[0], pts[1]] \n",
    "    return pixel_intensities\n",
    "\n",
    "def xy_lim(file):\n",
    "    # red limit\n",
    "    dat = np.load(f'red/{file}_seg.npy', allow_pickle=True).item()\n",
    "    img = dat['img']\n",
    "    outlines = utils.outlines_list(dat['masks'])\n",
    "    masked_imgs_red = get_cell_masks(img,outlines)\n",
    "    means_red = np.array([np.mean(get_pixel_intensities(img, np.where(masked_img > 0))) for masked_img in masked_imgs_red])\n",
    "\n",
    "    # blue limit\n",
    "    dat = np.load(f'blue/{file}_seg.npy', allow_pickle=True).item()\n",
    "    img = dat['img']\n",
    "    masked_imgs_blue = get_cell_masks(img,outlines)\n",
    "    means_blue = np.array([np.mean(get_pixel_intensities(img, np.where(masked_img > 0))) for masked_img in masked_imgs_blue])\n",
    "\n",
    "    return max((np.max(means_red),np.max(means_blue)))\n",
    "\n",
    "max_limit = 0\n",
    "for idx in range(len(blue)):\n",
    "    max_limit = max(max_limit, xy_lim(f'{idx}'))\n",
    "print(max_limit)"
   ]
  },
  {
   "attachments": {},
   "cell_type": "markdown",
   "metadata": {},
   "source": [
    "#### Scatter Plot"
   ]
  },
  {
   "cell_type": "code",
   "execution_count": null,
   "metadata": {},
   "outputs": [],
   "source": [
    "def blue_red_cell_scatter(file,data):\n",
    "    font = {\n",
    "        'weight' : 'bold',\n",
    "        'size'   : 22\n",
    "        }\n",
    "    plt.rc('font', **font)\n",
    "    dat = np.load(f'dic/{file}_seg.npy', allow_pickle=True).item()\n",
    "    # red limit\n",
    "    img = data['red'][file]\n",
    "    outlines = utils.outlines_list(dat['masks'])\n",
    "    masked_imgs_red = get_cell_masks(img,outlines)\n",
    "    means_red = np.array([np.mean(get_pixel_intensities(img, np.where(masked_img > 0))) for masked_img in masked_imgs_red])\n",
    "\n",
    "    # blue limit\n",
    "    img = data['red'][file]\n",
    "    masked_imgs_blue = get_cell_masks(img,outlines)\n",
    "    means_blue = np.array([np.mean(get_pixel_intensities(img, np.where(masked_img > 0))) for masked_img in masked_imgs_blue])\n",
    "\n",
    "    # plot image with masks overlaid\n",
    "    mask_RGB = plot.mask_overlay(dat['img'], dat['masks'])\n",
    "\n",
    "    # plot image with outlines overlaid in red (this is for blue segmentation)\n",
    "    outlines = utils.outlines_list(dat['masks'])\n",
    "    plt.figure(figsize=(12,10))\n",
    "    plt.imshow(dat['img'])\n",
    "    for o in outlines:\n",
    "        plt.plot(o[:,0], o[:,1], color='r')\n",
    "    \n",
    "    # scatter plot\n",
    "    plt.plot(means_red, means_blue, 'o')\n",
    "    plt.xlabel('Red')\n",
    "    plt.ylabel('Blue')\n",
    "    plt.gca().set_ylim(-0.5, data['lim'])\n",
    "    plt.gca().set_xlim(-0.5, data['lim'])\n",
    "    plt.title(f'Blue vs Red Intensity at frame {file}')\n",
    "\n",
    "    #  intrinsic and extrinsic noise\n",
    "    points_blue = means_blue\n",
    "    points_red = means_red\n",
    "    points_blue_mean = np.mean(points_blue)\n",
    "    points_red_mean = np.mean(points_red)\n",
    "    intrinsic = (1/len(points_blue))*sum([0.5*(blue - red)**2 for blue, red in zip(points_blue, points_red)])/(points_blue_mean * points_red_mean)\n",
    "    extrinsic = (1/len(points_blue))*sum([blue*red - points_red_mean*points_blue_mean for blue, red in zip(points_blue, points_red)])/(points_blue_mean * points_red_mean)\n",
    "    data[\"intrinsics\"].append(intrinsic)\n",
    "    data[\"extrinsics\"].append(extrinsic)\n",
    "    data[\"cv_red\"].append(np.std(means_red)/np.mean(means_red))\n",
    "    data[\"cv_blue\"].append(np.std(means_blue)/np.mean(means_blue))"
   ]
  },
  {
   "cell_type": "code",
   "execution_count": null,
   "metadata": {},
   "outputs": [],
   "source": [
    "name_of_file = 'plots/cell_scatter_wimg.gif'\n",
    "plotting_function = blue_red_cell_scatter\n",
    "intrinsics = []\n",
    "extrinsics = []\n",
    "cv_red = []\n",
    "cv_blue = []\n",
    "data = {}\n",
    "data['intrinsics'] = intrinsics\n",
    "data['extrinsics'] = extrinsics\n",
    "data[\"cv_red\"] = cv_red\n",
    "data[\"cv_blue\"] = cv_blue\n",
    "data[\"lim\"] = max_limit\n",
    "plots.create_gif(name_of_file, plotting_function, 0.0, red, data, no_images=True)"
   ]
  },
  {
   "attachments": {},
   "cell_type": "markdown",
   "metadata": {},
   "source": [
    "#### Example bar plot"
   ]
  },
  {
   "cell_type": "code",
   "execution_count": null,
   "metadata": {},
   "outputs": [],
   "source": [
    "from PIL import Image\n",
    "import matplotlib.pyplot as plt\n",
    "import numpy as np\n",
    "import cv2\n",
    "from cellpose import plot, utils\n",
    "list_of_cv = []\n",
    "def plot_hist(file,color_img):\n",
    "    dat= np.load(f'{file}_seg.npy', allow_pickle=True).item()\n",
    "    # plot image with outlines overlaid in red\n",
    "    img = dat['img']\n",
    "    outlines = utils.outlines_list(dat['masks'])\n",
    "    masked_imgs = get_cell_masks(img,outlines)\n",
    "    means = np.array([np.mean(get_pixel_intensities(color_img, np.where(masked_img > 0))) for masked_img in masked_imgs])\n",
    "    # Exclude outliers in the data\n",
    "    def reject_outliers(data, m=1):\n",
    "        return data[abs(data - np.mean(data)) < m * np.std(data)]\n",
    "    means = reject_outliers(means)\n",
    "\n",
    "    # plot image with masks overlaid\n",
    "    mask_RGB = plot.mask_overlay(img, dat['masks'])\n",
    "\n",
    "    # plot image with outlines overlaid in red\n",
    "    plt.figure(figsize=(12,10))\n",
    "    plt.imshow(img)\n",
    "    for o in outlines:\n",
    "        plt.plot(o[:,0], o[:,1], color='r')\n",
    "\n",
    "    plt.figure()\n",
    "    # Plot the mean intensity of each cell\n",
    "    plt.hist(means)\n",
    "    plt.xlabel('Mean intensity')\n",
    "    plt.ylabel('Cell number')\n",
    "    plt.show()\n",
    "\n",
    "file = 12\n",
    "plot_hist(f'dic/{file}',red[file])"
   ]
  }
 ],
 "metadata": {
  "kernelspec": {
   "display_name": "Python 3.9.10 ('base')",
   "language": "python",
   "name": "python3"
  },
  "language_info": {
   "codemirror_mode": {
    "name": "ipython",
    "version": 3
   },
   "file_extension": ".py",
   "mimetype": "text/x-python",
   "name": "python",
   "nbconvert_exporter": "python",
   "pygments_lexer": "ipython3",
   "version": "3.9.10 | packaged by conda-forge | (main, Feb  1 2022, 21:27:43) \n[Clang 11.1.0 ]"
  },
  "orig_nbformat": 4,
  "vscode": {
   "interpreter": {
    "hash": "224d2b38dd5c4bf9bb346b4b7ffc570356b5a9eca7c29d4f05461d7abc1d8f91"
   }
  }
 },
 "nbformat": 4,
 "nbformat_minor": 2
}
